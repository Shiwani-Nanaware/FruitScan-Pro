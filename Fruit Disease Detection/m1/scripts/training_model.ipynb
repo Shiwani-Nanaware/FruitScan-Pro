{
 "cells": [
  {
   "cell_type": "markdown",
   "id": "0d61c80d-7177-46d8-9429-b517c37568d9",
   "metadata": {},
   "source": [
    "## Dataset"
   ]
  },
  {
   "cell_type": "code",
   "execution_count": 25,
   "id": "c843af7e-0d0a-4719-914a-9b49165236ab",
   "metadata": {},
   "outputs": [],
   "source": [
    "PATH = \"C:\\\\Users\\\\Shiwani\\\\Desktop\\\\Fruit Disease Detection\\\\Fruit Disease Detection\\\\fruit_disease_dataset\\\\data\""
   ]
  },
  {
   "cell_type": "markdown",
   "id": "6db97b00-6a1b-4f5b-a5ad-cbff56029f64",
   "metadata": {},
   "source": [
    "## Libraries"
   ]
  },
  {
   "cell_type": "code",
   "execution_count": 26,
   "id": "2042cbc8-f72e-45e0-a13d-db6a3f42948e",
   "metadata": {},
   "outputs": [],
   "source": [
    "# Importing needed modules\n",
    "import numpy as np\n",
    "import tensorflow\n",
    "import matplotlib.pyplot as plt"
   ]
  },
  {
   "cell_type": "markdown",
   "id": "adda4d11-0ea9-4997-83f6-40fa5854dc55",
   "metadata": {},
   "source": [
    "## Data Preprocessing\n",
    "[Documentation](https://keras.io/api/data_loading/image/)"
   ]
  },
  {
   "cell_type": "markdown",
   "id": "0e77027a-8a44-42ba-be0b-8d831028a3af",
   "metadata": {},
   "source": [
    "### Training Image Preprocessing"
   ]
  },
  {
   "cell_type": "code",
   "execution_count": 27,
   "id": "0dfbdeb9-6d3f-4f6b-9435-927b83a87888",
   "metadata": {},
   "outputs": [
    {
     "name": "stdout",
     "output_type": "stream",
     "text": [
      "Found 5460 files belonging to 11 classes.\n"
     ]
    }
   ],
   "source": [
    "training_dataset = tensorflow.keras.utils.image_dataset_from_directory(\n",
    "    PATH+\"/train\",\n",
    "    labels = \"inferred\",\n",
    "    label_mode = \"categorical\",\n",
    "    class_names = None,\n",
    "    color_mode = \"rgb\",\n",
    "    batch_size = 32,\n",
    "    image_size = (64,64),\n",
    "    shuffle = True,\n",
    "    seed = None,\n",
    "    validation_split = None,\n",
    "    subset = None,\n",
    "    interpolation = \"bilinear\",\n",
    "    follow_links = False,\n",
    "    crop_to_aspect_ratio = False\n",
    ")"
   ]
  },
  {
   "cell_type": "markdown",
   "id": "5aadd3bd-f1fa-4a55-b13f-daf08ebab93c",
   "metadata": {},
   "source": [
    "### Eval Image Preprocessing"
   ]
  },
  {
   "cell_type": "code",
   "execution_count": 28,
   "id": "5c02f56d-fe31-4c59-9bef-ebfa166eddfc",
   "metadata": {},
   "outputs": [
    {
     "name": "stdout",
     "output_type": "stream",
     "text": [
      "Found 2387 files belonging to 11 classes.\n"
     ]
    }
   ],
   "source": [
    "eval_dataset = tensorflow.keras.utils.image_dataset_from_directory(\n",
    "    PATH+\"/eval\",\n",
    "    labels = \"inferred\",\n",
    "    label_mode = \"categorical\",\n",
    "    class_names = None,\n",
    "    color_mode = \"rgb\",\n",
    "    batch_size = 32,\n",
    "    image_size = (64,64),\n",
    "    shuffle = True,\n",
    "    seed = None,\n",
    "    validation_split = None,\n",
    "    subset = None,\n",
    "    interpolation = \"bilinear\",\n",
    "    follow_links = False,\n",
    "    crop_to_aspect_ratio = False\n",
    ")"
   ]
  },
  {
   "cell_type": "markdown",
   "id": "d17ed9d3-abab-4880-a05c-11c66768787d",
   "metadata": {},
   "source": [
    "## Building Model"
   ]
  },
  {
   "cell_type": "code",
   "execution_count": 29,
   "id": "458a1376-81b5-4ed6-bf82-c8ebc9106477",
   "metadata": {},
   "outputs": [],
   "source": [
    "# Convolutional Neural Network Model\n",
    "cnn = tensorflow.keras.models.Sequential()"
   ]
  },
  {
   "cell_type": "markdown",
   "id": "4007c860-ee02-4d76-b26c-05fa803aeb6d",
   "metadata": {},
   "source": [
    "### Building Convolution Layer"
   ]
  },
  {
   "cell_type": "code",
   "execution_count": 30,
   "id": "fdd87e75-84a9-4ebc-aecf-94ac69327a2c",
   "metadata": {},
   "outputs": [],
   "source": [
    "# First Convolution Layer\n",
    "cnn.add(tensorflow.keras.layers.Conv2D(filters=64, kernel_size=3, activation=\"relu\", input_shape=(64,64,3)))\n",
    "cnn.add(tensorflow.keras.layers.Conv2D(filters=64, kernel_size=3, activation=\"relu\"))\n",
    "# First Pool Layer\n",
    "cnn.add(tensorflow.keras.layers.MaxPool2D(pool_size=2, strides=2))"
   ]
  },
  {
   "cell_type": "code",
   "execution_count": 31,
   "id": "99462a95-1d80-42b0-9db2-c2e186f72c00",
   "metadata": {},
   "outputs": [],
   "source": [
    "# Second Convolution Layer\n",
    "cnn.add(tensorflow.keras.layers.Conv2D(filters=64, kernel_size=3, activation=\"relu\"))\n",
    "cnn.add(tensorflow.keras.layers.Conv2D(filters=64, kernel_size=3, activation=\"relu\"))\n",
    "# Second Pool Layer\n",
    "cnn.add(tensorflow.keras.layers.MaxPool2D(pool_size=2, strides=2))"
   ]
  },
  {
   "cell_type": "code",
   "execution_count": 32,
   "id": "5fbb7923-d397-415e-9089-9daa483ccc4c",
   "metadata": {},
   "outputs": [],
   "source": [
    "# cnn.add(tensorflow.keras.layers.Dropout(0.5)) # Make sure that overfitting is avoided"
   ]
  },
  {
   "cell_type": "code",
   "execution_count": 33,
   "id": "8b12f05e-1a27-42be-bd77-e300cb06dbda",
   "metadata": {},
   "outputs": [],
   "source": [
    "cnn.add(tensorflow.keras.layers.Flatten()) # Flatenning the Convolution Layer"
   ]
  },
  {
   "cell_type": "code",
   "execution_count": 34,
   "id": "003b2c26-9cc0-43d4-bfd1-6367fc16a15e",
   "metadata": {},
   "outputs": [],
   "source": [
    "cnn.add(tensorflow.keras.layers.Dense(units=512, activation=\"relu\"))\n",
    "cnn.add(tensorflow.keras.layers.Dense(units=256, activation=\"relu\"))\n",
    "cnn.add(tensorflow.keras.layers.Dropout(0.5)) # Make sure that overfitting is avoided"
   ]
  },
  {
   "cell_type": "code",
   "execution_count": 35,
   "id": "90c6495f-24f9-4beb-bc20-7028c162741e",
   "metadata": {},
   "outputs": [],
   "source": [
    "# this will the output layer\n",
    "cnn.add(tensorflow.keras.layers.Dense(units=11, activation=\"softmax\")) # units = 11 because we have 11 classes"
   ]
  },
  {
   "cell_type": "markdown",
   "id": "111822ed-45bc-495f-9823-c1f1520467aa",
   "metadata": {},
   "source": [
    "## Compiling Phases"
   ]
  },
  {
   "cell_type": "code",
   "execution_count": 37,
   "id": "3382bc2c-8be2-42b9-b0ca-cae43148c6a9",
   "metadata": {},
   "outputs": [],
   "source": [
    "cnn.compile(optimizer=\"adam\", loss=\"categorical_crossentropy\", metrics=[\"accuracy\"])"
   ]
  },
  {
   "cell_type": "code",
   "execution_count": 38,
   "id": "3b7a1ef5-b03b-4978-ab79-f0d91733c131",
   "metadata": {},
   "outputs": [
    {
     "name": "stdout",
     "output_type": "stream",
     "text": [
      "Epoch 1/32\n",
      "WARNING:tensorflow:From C:\\Users\\Shiwani\\anaconda3\\Lib\\site-packages\\keras\\src\\engine\\base_layer_utils.py:384: The name tf.executing_eagerly_outside_functions is deprecated. Please use tf.compat.v1.executing_eagerly_outside_functions instead.\n",
      "\n",
      "171/171 [==============================] - 49s 277ms/step - loss: 2.5252 - accuracy: 0.3597 - val_loss: 1.5802 - val_accuracy: 0.4671\n",
      "Epoch 2/32\n",
      "171/171 [==============================] - 46s 270ms/step - loss: 1.2199 - accuracy: 0.5789 - val_loss: 1.9623 - val_accuracy: 0.4734\n",
      "Epoch 3/32\n",
      "171/171 [==============================] - 44s 258ms/step - loss: 0.7349 - accuracy: 0.7652 - val_loss: 3.0570 - val_accuracy: 0.4307\n",
      "Epoch 4/32\n",
      "171/171 [==============================] - 45s 264ms/step - loss: 0.4280 - accuracy: 0.8652 - val_loss: 3.0974 - val_accuracy: 0.4759\n",
      "Epoch 5/32\n",
      "171/171 [==============================] - 47s 274ms/step - loss: 0.2461 - accuracy: 0.9222 - val_loss: 4.0415 - val_accuracy: 0.4843\n",
      "Epoch 6/32\n",
      "171/171 [==============================] - 51s 296ms/step - loss: 0.1841 - accuracy: 0.9469 - val_loss: 4.5034 - val_accuracy: 0.4378\n",
      "Epoch 7/32\n",
      "171/171 [==============================] - 45s 263ms/step - loss: 0.1858 - accuracy: 0.9484 - val_loss: 4.9119 - val_accuracy: 0.4319\n",
      "Epoch 8/32\n",
      "171/171 [==============================] - 45s 261ms/step - loss: 0.1737 - accuracy: 0.9560 - val_loss: 4.5956 - val_accuracy: 0.4533\n",
      "Epoch 9/32\n",
      "171/171 [==============================] - 45s 261ms/step - loss: 0.0914 - accuracy: 0.9725 - val_loss: 4.6509 - val_accuracy: 0.4784\n",
      "Epoch 10/32\n",
      "171/171 [==============================] - 45s 264ms/step - loss: 0.1275 - accuracy: 0.9665 - val_loss: 4.8486 - val_accuracy: 0.4851\n",
      "Epoch 11/32\n",
      "171/171 [==============================] - 47s 272ms/step - loss: 0.1291 - accuracy: 0.9637 - val_loss: 6.1089 - val_accuracy: 0.4449\n",
      "Epoch 12/32\n",
      "171/171 [==============================] - 48s 277ms/step - loss: 0.0943 - accuracy: 0.9742 - val_loss: 5.5309 - val_accuracy: 0.4537\n",
      "Epoch 13/32\n",
      "171/171 [==============================] - 48s 283ms/step - loss: 0.0488 - accuracy: 0.9863 - val_loss: 4.9464 - val_accuracy: 0.4784\n",
      "Epoch 14/32\n",
      "171/171 [==============================] - 46s 266ms/step - loss: 0.0326 - accuracy: 0.9896 - val_loss: 6.4644 - val_accuracy: 0.4763\n",
      "Epoch 15/32\n",
      "171/171 [==============================] - 46s 267ms/step - loss: 0.0103 - accuracy: 0.9974 - val_loss: 7.3886 - val_accuracy: 0.4927\n",
      "Epoch 16/32\n",
      "171/171 [==============================] - 47s 275ms/step - loss: 0.0278 - accuracy: 0.9921 - val_loss: 6.6504 - val_accuracy: 0.4617\n",
      "Epoch 17/32\n",
      "171/171 [==============================] - 47s 272ms/step - loss: 0.1338 - accuracy: 0.9678 - val_loss: 6.3631 - val_accuracy: 0.4286\n",
      "Epoch 18/32\n",
      "171/171 [==============================] - 45s 261ms/step - loss: 0.1040 - accuracy: 0.9756 - val_loss: 8.1662 - val_accuracy: 0.4194\n",
      "Epoch 19/32\n",
      "171/171 [==============================] - 45s 261ms/step - loss: 0.1980 - accuracy: 0.9573 - val_loss: 5.2224 - val_accuracy: 0.4562\n",
      "Epoch 20/32\n",
      "171/171 [==============================] - 46s 268ms/step - loss: 0.0864 - accuracy: 0.9804 - val_loss: 6.8626 - val_accuracy: 0.4625\n",
      "Epoch 21/32\n",
      "171/171 [==============================] - 45s 262ms/step - loss: 0.0937 - accuracy: 0.9767 - val_loss: 7.5879 - val_accuracy: 0.4529\n",
      "Epoch 22/32\n",
      "171/171 [==============================] - 45s 260ms/step - loss: 0.0966 - accuracy: 0.9789 - val_loss: 7.4689 - val_accuracy: 0.4767\n",
      "Epoch 23/32\n",
      "171/171 [==============================] - 46s 271ms/step - loss: 0.0599 - accuracy: 0.9844 - val_loss: 8.1632 - val_accuracy: 0.4382\n",
      "Epoch 24/32\n",
      "171/171 [==============================] - 47s 273ms/step - loss: 0.0133 - accuracy: 0.9963 - val_loss: 8.1409 - val_accuracy: 0.4612\n",
      "Epoch 25/32\n",
      "171/171 [==============================] - 47s 274ms/step - loss: 0.0218 - accuracy: 0.9945 - val_loss: 8.5929 - val_accuracy: 0.4596\n",
      "Epoch 26/32\n",
      "171/171 [==============================] - 47s 274ms/step - loss: 0.0910 - accuracy: 0.9758 - val_loss: 8.9983 - val_accuracy: 0.4424\n",
      "Epoch 27/32\n",
      "171/171 [==============================] - 49s 285ms/step - loss: 0.0717 - accuracy: 0.9837 - val_loss: 7.4035 - val_accuracy: 0.4349\n",
      "Epoch 28/32\n",
      "171/171 [==============================] - 47s 275ms/step - loss: 0.0441 - accuracy: 0.9912 - val_loss: 7.9473 - val_accuracy: 0.4399\n",
      "Epoch 29/32\n",
      "171/171 [==============================] - 47s 277ms/step - loss: 0.0616 - accuracy: 0.9875 - val_loss: 7.6944 - val_accuracy: 0.4566\n",
      "Epoch 30/32\n",
      "171/171 [==============================] - 48s 279ms/step - loss: 0.0893 - accuracy: 0.9821 - val_loss: 8.9249 - val_accuracy: 0.4223\n",
      "Epoch 31/32\n",
      "171/171 [==============================] - 49s 286ms/step - loss: 0.0468 - accuracy: 0.9894 - val_loss: 8.9145 - val_accuracy: 0.4529\n",
      "Epoch 32/32\n",
      "171/171 [==============================] - 51s 297ms/step - loss: 0.0599 - accuracy: 0.9885 - val_loss: 8.1759 - val_accuracy: 0.4726\n"
     ]
    }
   ],
   "source": [
    "training_history = cnn.fit(x=training_dataset, validation_data=eval_dataset, epochs=32)"
   ]
  },
  {
   "cell_type": "markdown",
   "id": "f0962c9e-a6a6-438f-8586-5bb6d0375e3c",
   "metadata": {},
   "source": [
    "## Saving Model"
   ]
  },
  {
   "cell_type": "code",
   "execution_count": 39,
   "id": "7087492f-5ed5-468b-9a17-114f94599dd2",
   "metadata": {},
   "outputs": [],
   "source": [
    "cnn.save(\"fruit_disease_detection_model.h5\");"
   ]
  },
  {
   "cell_type": "code",
   "execution_count": 40,
   "id": "d38d8bce-caba-4fdb-9fa3-a26d1c30f919",
   "metadata": {},
   "outputs": [
    {
     "data": {
      "text/plain": [
       "{'loss': [2.5251593589782715,\n",
       "  1.2199089527130127,\n",
       "  0.7349188327789307,\n",
       "  0.42797064781188965,\n",
       "  0.2460603415966034,\n",
       "  0.1841396540403366,\n",
       "  0.18579263985157013,\n",
       "  0.17368105053901672,\n",
       "  0.09142868965864182,\n",
       "  0.12751154601573944,\n",
       "  0.12909623980522156,\n",
       "  0.09432729333639145,\n",
       "  0.04880872368812561,\n",
       "  0.03256181254982948,\n",
       "  0.010291289538145065,\n",
       "  0.02780328504741192,\n",
       "  0.13378268480300903,\n",
       "  0.10400531440973282,\n",
       "  0.19798250496387482,\n",
       "  0.08639705926179886,\n",
       "  0.09371714293956757,\n",
       "  0.09662780910730362,\n",
       "  0.05990735813975334,\n",
       "  0.013336694799363613,\n",
       "  0.02181331440806389,\n",
       "  0.09099435806274414,\n",
       "  0.07167233526706696,\n",
       "  0.04408670589327812,\n",
       "  0.061572376638650894,\n",
       "  0.08930055052042007,\n",
       "  0.04682391509413719,\n",
       "  0.05985048785805702],\n",
       " 'accuracy': [0.35970696806907654,\n",
       "  0.5789377093315125,\n",
       "  0.7652014493942261,\n",
       "  0.865201473236084,\n",
       "  0.9221611618995667,\n",
       "  0.946886420249939,\n",
       "  0.9483516216278076,\n",
       "  0.9560439586639404,\n",
       "  0.9725274443626404,\n",
       "  0.9664835333824158,\n",
       "  0.9637362360954285,\n",
       "  0.9741758108139038,\n",
       "  0.9862637519836426,\n",
       "  0.9895604252815247,\n",
       "  0.9974358677864075,\n",
       "  0.9921245574951172,\n",
       "  0.9677655696868896,\n",
       "  0.9756410121917725,\n",
       "  0.9573259949684143,\n",
       "  0.980402946472168,\n",
       "  0.9767399430274963,\n",
       "  0.9789377450942993,\n",
       "  0.9844322204589844,\n",
       "  0.9963369965553284,\n",
       "  0.9945054650306702,\n",
       "  0.9758241772651672,\n",
       "  0.98369961977005,\n",
       "  0.9912087917327881,\n",
       "  0.9875457882881165,\n",
       "  0.9820512533187866,\n",
       "  0.9893772602081299,\n",
       "  0.9884615540504456],\n",
       " 'val_loss': [1.5802459716796875,\n",
       "  1.9623234272003174,\n",
       "  3.0570015907287598,\n",
       "  3.097447633743286,\n",
       "  4.041539669036865,\n",
       "  4.503366947174072,\n",
       "  4.911947250366211,\n",
       "  4.595560550689697,\n",
       "  4.650872707366943,\n",
       "  4.848592281341553,\n",
       "  6.108914375305176,\n",
       "  5.530867099761963,\n",
       "  4.946425437927246,\n",
       "  6.4643731117248535,\n",
       "  7.388645648956299,\n",
       "  6.650413990020752,\n",
       "  6.363076210021973,\n",
       "  8.166243553161621,\n",
       "  5.222384452819824,\n",
       "  6.862573146820068,\n",
       "  7.58786678314209,\n",
       "  7.4689226150512695,\n",
       "  8.163159370422363,\n",
       "  8.140889167785645,\n",
       "  8.592872619628906,\n",
       "  8.99829387664795,\n",
       "  7.4034810066223145,\n",
       "  7.947298526763916,\n",
       "  7.69436502456665,\n",
       "  8.924932479858398,\n",
       "  8.914451599121094,\n",
       "  8.175933837890625],\n",
       " 'val_accuracy': [0.46711352467536926,\n",
       "  0.4733975827693939,\n",
       "  0.43066611886024475,\n",
       "  0.4759112000465393,\n",
       "  0.48428991436958313,\n",
       "  0.4377880096435547,\n",
       "  0.43192291259765625,\n",
       "  0.45328864455223083,\n",
       "  0.4784247875213623,\n",
       "  0.4851277768611908,\n",
       "  0.444909930229187,\n",
       "  0.45370757579803467,\n",
       "  0.4784247875213623,\n",
       "  0.47633013129234314,\n",
       "  0.49266862869262695,\n",
       "  0.46166735887527466,\n",
       "  0.4285714328289032,\n",
       "  0.4193548262119293,\n",
       "  0.45622119307518005,\n",
       "  0.4625052511692047,\n",
       "  0.452869713306427,\n",
       "  0.476749062538147,\n",
       "  0.4382069408893585,\n",
       "  0.4612484276294708,\n",
       "  0.4595726728439331,\n",
       "  0.4423963129520416,\n",
       "  0.43485546112060547,\n",
       "  0.43988269567489624,\n",
       "  0.4566401243209839,\n",
       "  0.4222874045372009,\n",
       "  0.452869713306427,\n",
       "  0.47255969047546387]}"
      ]
     },
     "execution_count": 40,
     "metadata": {},
     "output_type": "execute_result"
    }
   ],
   "source": [
    "training_history.history"
   ]
  },
  {
   "cell_type": "code",
   "execution_count": 41,
   "id": "ed2ba5ba-7281-4bed-b36c-ab6881a70a78",
   "metadata": {},
   "outputs": [],
   "source": [
    "# Recording Data\n",
    "import json\n",
    "\n",
    "with open(\"fruit_disease_detection_history.json\", \"w\") as  f:\n",
    "    json.dump(training_history.history, f)"
   ]
  },
  {
   "cell_type": "code",
   "execution_count": 42,
   "id": "aa1afcd3-3a6b-48ea-bdc4-13b0a7a114e1",
   "metadata": {},
   "outputs": [
    {
     "name": "stdout",
     "output_type": "stream",
     "text": [
      "dict_keys(['loss', 'accuracy', 'val_loss', 'val_accuracy'])\n"
     ]
    }
   ],
   "source": [
    "print(training_history.history.keys())"
   ]
  },
  {
   "cell_type": "markdown",
   "id": "5c334250-e5fd-40dd-b0fd-ae4d19857594",
   "metadata": {},
   "source": [
    "## Calculating Accuracy of Model Achieved on Evaluation Set"
   ]
  },
  {
   "cell_type": "code",
   "execution_count": 43,
   "id": "94ec4273-f733-4916-b1e4-605bad9dcfef",
   "metadata": {},
   "outputs": [
    {
     "name": "stdout",
     "output_type": "stream",
     "text": [
      "Validation set Accuracy: 47.25596904754639 %\n"
     ]
    }
   ],
   "source": [
    "print(f\"Validation set Accuracy: {training_history.history['val_accuracy'][-1]*100} %\")"
   ]
  },
  {
   "cell_type": "markdown",
   "id": "5d69924e-8579-43a5-ab92-0c954ce65b5c",
   "metadata": {},
   "source": [
    "## Accuracy Visualization"
   ]
  },
  {
   "cell_type": "markdown",
   "id": "b056fa2d-ab19-4983-b4c8-4147a95088ca",
   "metadata": {},
   "source": [
    "### Training Visualization"
   ]
  },
  {
   "cell_type": "code",
   "execution_count": 44,
   "id": "ec03f133-f511-4de5-94f0-a82a559fd26c",
   "metadata": {},
   "outputs": [
    {
     "data": {
      "image/png": "[encoded data removed]",
      "text/plain": [
       "<Figure size 640x480 with 1 Axes>"
      ]
     },
     "metadata": {},
     "output_type": "display_data"
    }
   ],
   "source": [
    "epochs = [i for i in range(1, 33)]\n",
    "plt.plot(epochs, training_history.history['accuracy'], color='red')\n",
    "plt.xlabel(\"Epochs\")\n",
    "plt.ylabel(\"Training Accuracy\")\n",
    "plt.title(\"Training Accuracy Result\")\n",
    "plt.show()"
   ]
  },
  {
   "cell_type": "markdown",
   "id": "8baa65fd-dea8-4aca-82be-5d7c21642169",
   "metadata": {},
   "source": [
    "### Evaluation Accuracy"
   ]
  },
  {
   "cell_type": "code",
   "execution_count": 45,
   "id": "0496d2da-9e53-4968-b29c-6a21f1107cf6",
   "metadata": {},
   "outputs": [
    {
     "data": {
      "image/png": "[encoded data removed]",
      "text/plain": [
       "<Figure size 640x480 with 1 Axes>"
      ]
     },
     "metadata": {},
     "output_type": "display_data"
    }
   ],
   "source": [
    "plt.plot(epochs, training_history.history['val_accuracy'], color='blue')\n",
    "plt.xlabel(\"Epochs\")\n",
    "plt.ylabel(\"Validation Accuracy\")\n",
    "plt.title(\"Validation Accuracy Result\")\n",
    "plt.show()"
   ]
  },
  {
   "cell_type": "code",
   "execution_count": null,
   "id": "dffffda8",
   "metadata": {},
   "outputs": [],
   "source": []
  }
 ],
 "metadata": {
  "kernelspec": {
   "display_name": "Python 3 (ipykernel)",
   "language": "python",
   "name": "python3"
  },
  "language_info": {
   "codemirror_mode": {
    "name": "ipython",
    "version": 3
   },
   "file_extension": ".py",
   "mimetype": "text/x-python",
   "name": "python",
   "nbconvert_exporter": "python",
   "pygments_lexer": "ipython3",
   "version": "3.11.5"
  }
 },
 "nbformat": 4,
 "nbformat_minor": 5
}
